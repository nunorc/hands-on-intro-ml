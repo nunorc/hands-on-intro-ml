{
  "cells": [
    {
      "cell_type": "markdown",
      "metadata": {
        "id": "Ixc8drvzdH8W"
      },
      "source": [
        "# Hands-On Introduction to Machine Learning\n",
        "\n",
        "# Part 2: Introduction to ML\n",
        "\n",
        "<a target=\"_blank\" href=\"https://colab.research.google.com/github/nunorc/hands-on-intro-ml/blob/master/notebooks/Part-2-Intro-ML.ipynb\">\n",
        "  <img src=\"https://colab.research.google.com/assets/colab-badge.svg\" alt=\"Open In Colab\"/>\n",
        "</a>\n",
        "\n",
        "This notebook gives a quick introduction to Machine Learning illustrating the use of some techniques and approaches for supervised learning, using the [Python](https://www.python.org/) programming language.\n",
        "The topics briefly covered include: single and multivariate linear regression, and image classification with SVM."
      ]
    },
    {
      "cell_type": "markdown",
      "metadata": {
        "id": "GcRy8I61dH8b"
      },
      "source": [
        "## 1. Linear Regression Example\n",
        "\n",
        "### 1.1 Single Variable\n",
        "\n",
        "In a nutshell linear regression is a supervised learning approached that attempts\n",
        "to capture the mapping between inputs and an output using a linear model.\n",
        "Let's recall the problem related with estimating the house price, given a set of features about houses estimate the sale price based on data.\n",
        "\n",
        "We start with a small sample dataset to work on, the original and complete dataset is available from Kaggle https://www.kaggle.com/datasets/shree1992/housedata, this smaller dataset includes only some of the features and samples from the data original.\n",
        "\n",
        "We start by downloading the dataset CSV file and save it locally using the `requests` package.\n"
      ]
    },
    {
      "cell_type": "code",
      "execution_count": null,
      "metadata": {
        "colab": {
          "base_uri": "https://localhost:8080/"
        },
        "id": "PefcpChzRD_B",
        "outputId": "ccf49ff3-f6db-42fc-a151-9a86e736d0cb"
      },
      "outputs": [],
      "source": [
        "import requests\n",
        "\n",
        "url = 'https://github.com/nunorc/hands-on-intro-ml/raw/master/notebooks/housing-data.csv'\n",
        "\n",
        "# get the content of the file\n",
        "r = requests.get(url, allow_redirects=True)\n",
        "\n",
        "# save to a local locally\n",
        "open('housing-data.csv', 'wb').write(r.content)"
      ]
    },
    {
      "cell_type": "markdown",
      "metadata": {
        "id": "q8c6IAF_M4N1"
      },
      "source": [
        "We now have the `housing-data.csv` local file with our data. Next we can immediately load the dataset to a `pandas` dataframe for inspection and manipulation"
      ]
    },
    {
      "cell_type": "code",
      "execution_count": null,
      "metadata": {
        "id": "gxdLhyAlM9c4"
      },
      "outputs": [],
      "source": [
        "import pandas as pd\n",
        "\n",
        "dataset = pd.read_csv('housing-data.csv')"
      ]
    },
    {
      "cell_type": "markdown",
      "metadata": {
        "id": "9ZdPAYIXVoF9"
      },
      "source": [
        "We can inspect the content of the `dataframe` that `pandas` created, just by calling the variable, the notebook already is able to pretty print the data:"
      ]
    },
    {
      "cell_type": "code",
      "execution_count": null,
      "metadata": {
        "colab": {
          "base_uri": "https://localhost:8080/",
          "height": 424
        },
        "id": "NRqhN1E3Uy7t",
        "outputId": "679e6baa-e735-4480-cb87-a92f44a79aca"
      },
      "outputs": [],
      "source": [
        "dataset"
      ]
    },
    {
      "cell_type": "markdown",
      "metadata": {
        "id": "yqKlc_p6OKOO"
      },
      "source": [
        "We can see that the table has 4207 rows, i.e. observations, or samples, and 5 columns, i.e. features: number of bedrooms, number of bathrooms, living area in square feet, number of floors, and also the price for which the house was sold.\n",
        "\n",
        "Let's start by looking at a single variable linear regression, which means that we only have one input variable to our model, also called independent variable, in this cas we can express our linear regression model as:\n",
        "\n",
        "$$Y = aX + b$$\n",
        "\n",
        "so, the goal becomes to discover the best values for $a$ and $b$."
      ]
    },
    {
      "cell_type": "code",
      "execution_count": null,
      "metadata": {
        "colab": {
          "base_uri": "https://localhost:8080/"
        },
        "id": "6NH9AenfVBTF",
        "outputId": "bb3d1120-ee80-4603-fe08-41ea0381594f"
      },
      "outputs": [],
      "source": [
        "features = ['sqft_living']\n",
        "target = 'price'\n",
        "\n",
        "X = dataset[features].to_numpy()\n",
        "y = dataset[target].to_numpy()\n",
        "\n",
        "len(X), len(y)"
      ]
    },
    {
      "cell_type": "markdown",
      "metadata": {
        "id": "LjylfahEPLGu"
      },
      "source": [
        "Let's plot our feature versus the prince to visualize the data distribution, we can do this easily with `matplotlib`:"
      ]
    },
    {
      "cell_type": "code",
      "execution_count": null,
      "metadata": {
        "colab": {
          "base_uri": "https://localhost:8080/",
          "height": 465
        },
        "id": "sVcma_uIPVLf",
        "outputId": "d85550ae-0ade-402a-ae0f-91a55aeadced"
      },
      "outputs": [],
      "source": [
        "import matplotlib.pyplot as plt\n",
        "\n",
        "plt.scatter(X, y, marker='.')\n",
        "plt.xlabel('sqft_living (X)')\n",
        "plt.ylabel('price (y)')\n",
        "\n",
        "plt.show()"
      ]
    },
    {
      "cell_type": "markdown",
      "metadata": {
        "id": "xUuKxmKkPZx3"
      },
      "source": [
        "Just by visually inspecting the plot it seems that there is a relation between the price (our dependent variable) and the area (our independent variable), i.e. the price increases with the increase of the area, but just by looking at the plot is hard to define this relation.\n",
        "\n",
        "Let's create our first linear regression model. We start by importing the `LineaRegression` class from the `sklearn.linear_model` and we create a new variable `lr` instance of `LinearRegression`:"
      ]
    },
    {
      "cell_type": "code",
      "execution_count": null,
      "metadata": {
        "id": "L4ZxMrtHdH8c"
      },
      "outputs": [],
      "source": [
        "from sklearn.linear_model import LinearRegression\n",
        "\n",
        "lr = LinearRegression()"
      ]
    },
    {
      "cell_type": "markdown",
      "metadata": {
        "id": "5JkaSoE6R8tU"
      },
      "source": [
        "Now it's time to train this model with our data stored in the `X` variable, and with the target vector for the prices stored in `y`:"
      ]
    },
    {
      "cell_type": "code",
      "execution_count": null,
      "metadata": {
        "colab": {
          "base_uri": "https://localhost:8080/",
          "height": 75
        },
        "id": "UOFT28brRjtX",
        "outputId": "83826054-21d3-4690-91f5-b1fc6d22ba21"
      },
      "outputs": [],
      "source": [
        "lr.fit(X, y)"
      ]
    },
    {
      "cell_type": "markdown",
      "metadata": {
        "id": "L8D1SGdmSNH5"
      },
      "source": [
        "We can check the coefficients of our model `a` and `b`, i.e. the slope and .. from our linear model `lr` with the following code:"
      ]
    },
    {
      "cell_type": "code",
      "execution_count": null,
      "metadata": {
        "colab": {
          "base_uri": "https://localhost:8080/",
          "height": 35
        },
        "id": "d38z3_19SOsk",
        "outputId": "4334a018-d0e5-4c63-b4b6-dcac6a42cdc9"
      },
      "outputs": [],
      "source": [
        "f\"y = { lr.coef_[0] }x + { lr.intercept_ }\""
      ]
    },
    {
      "cell_type": "markdown",
      "metadata": {
        "id": "J317fId4rsFS"
      },
      "source": [
        "We can now include the fitted linear regression to our previous plot.\n",
        "We do this by predicting the prince for every possible value of `x` between\n",
        "the minimum and maximum value from the dataset, we create this list of values using the `arange` function from the `numnpy` package."
      ]
    },
    {
      "cell_type": "code",
      "execution_count": null,
      "metadata": {
        "colab": {
          "base_uri": "https://localhost:8080/",
          "height": 465
        },
        "id": "5MDw9URTE3hf",
        "outputId": "84c6e209-66f4-43cd-91b6-919e5b12bf7e"
      },
      "outputs": [],
      "source": [
        "import matplotlib.pyplot as plt\n",
        "import numpy as np\n",
        "\n",
        "plt.scatter(X, y, marker='.')\n",
        "plt.xlabel('sqft_living (X)')\n",
        "plt.ylabel('price (y)')\n",
        "\n",
        "x_list = np.arange(min(X), max(X))\n",
        "plt.plot(x_list, lr.predict(x_list.reshape(-1, 1)), color='red')\n",
        "\n",
        "plt.show()"
      ]
    },
    {
      "cell_type": "markdown",
      "metadata": {
        "id": "rbdY37j5vtjJ"
      },
      "source": [
        "**Activity:** try to plot the remaining features individually versus the price, to have an idea of possible correlations and good candidates for features.\n"
      ]
    },
    {
      "cell_type": "markdown",
      "metadata": {
        "id": "Sx5w2iGowRfF"
      },
      "source": [
        "**Activity:** you can also try to fit the a new linear regression model to these single input features.\n"
      ]
    },
    {
      "cell_type": "markdown",
      "metadata": {
        "id": "7xC4U5nGw_Oz"
      },
      "source": [
        "### 1.2 Multivariate linear regression\n",
        "\n",
        "Let's now train a model that uses all the features available in the dataset to predict the house price. In this case our dependent variable `Y` the predicted house price, depends on a linear combination of `n` weights times `n` features X:\n",
        "\n",
        "$$Y = w_1X_1 + w_2X_2 + ...+ w_nX_n  b$$\n",
        "\n",
        "So let's redefine our `X` and `y` variables from before as:"
      ]
    },
    {
      "cell_type": "code",
      "execution_count": null,
      "metadata": {
        "colab": {
          "base_uri": "https://localhost:8080/"
        },
        "id": "_vFTP9ktHP2R",
        "outputId": "1df678fd-0fe5-4b70-ef59-80c35b0c79a9"
      },
      "outputs": [],
      "source": [
        "features = ['bedrooms', 'bathrooms', 'sqft_living', 'floors']\n",
        "target = 'price'\n",
        "\n",
        "X = dataset[features].to_numpy()\n",
        "y = dataset[target].to_numpy()\n",
        "\n",
        "X, y"
      ]
    },
    {
      "cell_type": "markdown",
      "metadata": {
        "id": "CMxSdlyu3ogU"
      },
      "source": [
        "Note that now `X` is a list of lists, because for each observation we have a lists of inputs features.\n",
        "\n",
        "We now create a new linear regression object `lr`:"
      ]
    },
    {
      "cell_type": "code",
      "execution_count": null,
      "metadata": {
        "colab": {
          "base_uri": "https://localhost:8080/",
          "height": 75
        },
        "id": "g-EQ0rAS3zku",
        "outputId": "d50da3df-a018-416b-ce13-29122b42dbb8"
      },
      "outputs": [],
      "source": [
        "lr = LinearRegression()\n",
        "\n",
        "lr.fit(X, y)"
      ]
    },
    {
      "cell_type": "markdown",
      "metadata": {
        "id": "c_Wnn8YS4lL9"
      },
      "source": [
        "We can as before check the weights in our model for each feature."
      ]
    },
    {
      "cell_type": "code",
      "execution_count": null,
      "metadata": {
        "colab": {
          "base_uri": "https://localhost:8080/",
          "height": 35
        },
        "id": "ZbZQakQr379b",
        "outputId": "a89258e2-8155-4510-cfde-c9800ac2eae4"
      },
      "outputs": [],
      "source": [
        "f\"y = { lr.coef_[0] } bedrooms + { lr.coef_[1] } bathrooms + { lr.coef_[2] } sqft_living + { lr.coef_[3] } floors + { lr.intercept_ }\""
      ]
    },
    {
      "cell_type": "markdown",
      "metadata": {
        "id": "EiMjRCe4ktcm"
      },
      "source": [
        "**Activity:** try to use other options for building a model, for example polynomial regression, you can use the same `X` and `y`.\n",
        "\n",
        "Another usual important step is doing feature scaling, so that all the values from the input features are scaled to the range of values. A common way of doings this is for example the `MinMaxScaler`:"
      ]
    },
    {
      "cell_type": "code",
      "execution_count": null,
      "metadata": {
        "colab": {
          "base_uri": "https://localhost:8080/"
        },
        "id": "-cG0j-q2l6P3",
        "outputId": "da644969-de1e-4d5d-893a-6db92f5a128f"
      },
      "outputs": [],
      "source": [
        "from sklearn.preprocessing import MinMaxScaler\n",
        "\n",
        "scaler = MinMaxScaler()\n",
        "\n",
        "X_scaled = scaler.fit_transform(X)\n",
        "\n",
        "X_scaled"
      ]
    },
    {
      "cell_type": "markdown",
      "metadata": {
        "id": "IO4lwe91mf0j"
      },
      "source": [
        "We can see that the output of `X_scaled` illustrates different values compared to the original `X`, the values are now scaled, which means that their absolute value has less impact on the best coefficients being calculated that fit the data.\n",
        "\n",
        "**Activity:** try to train again the linear regression model, but with the new scaled data and compare the obtained weights for the model."
      ]
    },
    {
      "cell_type": "markdown",
      "metadata": {
        "id": "ZJwf3kx83SIh"
      },
      "source": [
        "## Image classification Example\n",
        "\n",
        "Let's now look at a problem where we use images as inputs to our model, and try to classify these images into labels. This dataset, included with the `sk-learn` package, consists of 8x8 pixel images of hand-written digits and the goal is to assign a class between 0 and 9 that represents the digit.\n",
        "\n",
        "We start by importing the dataset."
      ]
    },
    {
      "cell_type": "code",
      "execution_count": null,
      "metadata": {
        "id": "rcIAN5xMWI8d"
      },
      "outputs": [],
      "source": [
        "from sklearn import datasets\n",
        "\n",
        "dataset = datasets.load_digits()"
      ]
    },
    {
      "cell_type": "markdown",
      "metadata": {
        "id": "deZmyEIdX1qs"
      },
      "source": [
        "Let's plot the first image of the dataset:"
      ]
    },
    {
      "cell_type": "code",
      "execution_count": null,
      "metadata": {
        "colab": {
          "base_uri": "https://localhost:8080/",
          "height": 232
        },
        "id": "V4PuU4raWZOF",
        "outputId": "361c1108-5fe8-44e2-9121-1e0ddcdd7c04"
      },
      "outputs": [],
      "source": [
        "import matplotlib.pyplot as plt\n",
        "\n",
        "plt.figure(figsize=(2, 2))\n",
        "plt.imshow(dataset.images[0], cmap=plt.cm.gray_r)"
      ]
    },
    {
      "cell_type": "markdown",
      "metadata": {
        "id": "-mD3qpX4YLuO"
      },
      "source": [
        "Which has the corresponding label:"
      ]
    },
    {
      "cell_type": "code",
      "execution_count": null,
      "metadata": {
        "colab": {
          "base_uri": "https://localhost:8080/"
        },
        "id": "VvmPftNdXxRd",
        "outputId": "0c03a861-ae07-4524-8121-5b8a6b9e9d48"
      },
      "outputs": [],
      "source": [
        "dataset.target[0]"
      ]
    },
    {
      "cell_type": "markdown",
      "metadata": {
        "id": "2vqr1XKDme1g"
      },
      "source": [
        "**Activity:** check other images in the dataset to see other examples of other labels by changing the index of the dataset lists in the previous cells.\n",
        "\n",
        "Note that each image has shape 8x8, so to apply a classifier on this data, we need to flatten the images, turning each two dimensions array of gray scale values from shape 8x8 into a vector of 64 elements."
      ]
    },
    {
      "cell_type": "code",
      "execution_count": null,
      "metadata": {
        "colab": {
          "base_uri": "https://localhost:8080/"
        },
        "id": "iREbwbJ7Yok2",
        "outputId": "e99532b4-98af-44d0-9b46-ff3b5932cd5b"
      },
      "outputs": [],
      "source": [
        "# flatten the images\n",
        "n_samples = len(dataset.images)\n",
        "X = dataset.images.reshape((n_samples, -1))\n",
        "\n",
        "X.shape"
      ]
    },
    {
      "cell_type": "markdown",
      "metadata": {
        "id": "JJKYUzS0ZOTr"
      },
      "source": [
        "By inspecting the `X` in the previous cell we can see that now input matrix of feature has 1797 observations or samples, and each sample has a vector of 64 features, i.e. one for each gray scale value for each pixel.\n",
        "\n",
        "Next, we can then split the data into train and test subsets so that we can fit a classifier to the data the validate its' predictions using the `train_test_split` function:"
      ]
    },
    {
      "cell_type": "code",
      "execution_count": null,
      "metadata": {
        "id": "9fuuGHrgYrUD"
      },
      "outputs": [],
      "source": [
        "from sklearn.model_selection import train_test_split\n",
        "\n",
        "# split data into 70% train and 30% test subsets\n",
        "X_train, X_test, y_train, y_test = train_test_split(X, dataset.target, test_size=0.3)"
      ]
    },
    {
      "cell_type": "markdown",
      "metadata": {
        "id": "o1y-Vep0ag3i"
      },
      "source": [
        "Now the result of the `train_test_split` function is a list of subsets of our features matrix `X` and target variable `y`. We can check the shapes of each list, illustrated in the cell below, to see that all the values match correctly:"
      ]
    },
    {
      "cell_type": "code",
      "execution_count": null,
      "metadata": {
        "colab": {
          "base_uri": "https://localhost:8080/",
          "height": 35
        },
        "id": "OO0GABh7aIPg",
        "outputId": "9725266b-d795-44f8-ccf3-7a22d814a76d"
      },
      "outputs": [],
      "source": [
        "f\"X_train: {X_train.shape}, y_train: {y_train.shape}, X_test:{X_test.shape}, y_test{y_test.shape}\""
      ]
    },
    {
      "cell_type": "markdown",
      "metadata": {
        "id": "Hs_g9B0Za8HF"
      },
      "source": [
        "Now let's use our training subsets to train a model, for example using a Support Vector Classification (SVM) model. We can use the `SVM` class from the `svm` module to create a new model `clf`:"
      ]
    },
    {
      "cell_type": "code",
      "execution_count": null,
      "metadata": {
        "id": "6r-mS-IoaMcH"
      },
      "outputs": [],
      "source": [
        "from sklearn import datasets, metrics, svm\n",
        "\n",
        "clf = svm.SVC()"
      ]
    },
    {
      "cell_type": "markdown",
      "metadata": {
        "id": "5lqjinDGgrXu"
      },
      "source": [
        "This model follows the same approach as before, we can train the model using the `fit` method, giving the data as argument, this time we only pass the subsets for training, and holdout the testing subset:"
      ]
    },
    {
      "cell_type": "code",
      "execution_count": null,
      "metadata": {
        "colab": {
          "base_uri": "https://localhost:8080/",
          "height": 75
        },
        "id": "zIBdPnnLbFcI",
        "outputId": "8ddf81f9-3be6-4596-e1cd-44e338fe2b5b"
      },
      "outputs": [],
      "source": [
        "clf.fit(X_train, y_train)"
      ]
    },
    {
      "cell_type": "markdown",
      "metadata": {
        "id": "h9RAEjcAhJYd"
      },
      "source": [
        "And now we can used the trained model to predict the classes for the samples in the test subset:"
      ]
    },
    {
      "cell_type": "code",
      "execution_count": null,
      "metadata": {
        "id": "AxpWGBlwbOt_"
      },
      "outputs": [],
      "source": [
        "predicted = clf.predict(X_test)"
      ]
    },
    {
      "cell_type": "markdown",
      "metadata": {
        "id": "EveeLRhNh7eB"
      },
      "source": [
        "We can now plot for example the first image in the test subset (note that we have to reshape the image back to 8x8 from a 64 elements vector):"
      ]
    },
    {
      "cell_type": "code",
      "execution_count": null,
      "metadata": {
        "colab": {
          "base_uri": "https://localhost:8080/",
          "height": 232
        },
        "id": "gXG5E70SbPw6",
        "outputId": "84337ba5-bee4-463e-f783-d3ca836ee36b"
      },
      "outputs": [],
      "source": [
        "plt.figure(figsize=(2, 2))\n",
        "plt.imshow(np.array(X_test[0]).reshape(8, 8), cmap=plt.cm.gray_r)"
      ]
    },
    {
      "cell_type": "markdown",
      "metadata": {
        "id": "tXl9h7YciCE1"
      },
      "source": [
        "And we check the true class from the testing subset and the predicted class for the first example:"
      ]
    },
    {
      "cell_type": "code",
      "execution_count": null,
      "metadata": {
        "colab": {
          "base_uri": "https://localhost:8080/",
          "height": 35
        },
        "id": "2HFegl6qhr6B",
        "outputId": "5cf31ad6-1e33-4d88-98f6-1c2ec5996a1f"
      },
      "outputs": [],
      "source": [
        "f\"true y: {y_test[0]} predicted y: {predicted[0]}\""
      ]
    },
    {
      "cell_type": "markdown",
      "metadata": {
        "id": "crTQh20KiX5Y"
      },
      "source": [
        "**Activity:** compare the predicted class with the true class to see how well the model is doing, you can also plot the image, hint: update the indexes for the lists in the previous cells.\n",
        "\n",
        "To have a better idea of how well the model is performing let's calculate the model accuracy using the `accuracy_score` function.\n"
      ]
    },
    {
      "cell_type": "code",
      "execution_count": null,
      "metadata": {
        "colab": {
          "base_uri": "https://localhost:8080/"
        },
        "id": "SecGfnD0hlpV",
        "outputId": "2ec3b6f1-9dd0-4b37-bfcb-e85aa0a15366"
      },
      "outputs": [],
      "source": [
        "from sklearn.metrics import accuracy_score\n",
        "\n",
        "score = accuracy_score(y_test, predicted)\n",
        "\n",
        "score"
      ]
    },
    {
      "cell_type": "markdown",
      "metadata": {
        "id": "892136sTjTYK"
      },
      "source": [
        "With a 98% accuracy the model is performing quite well for this tasks. There are many options available metrics to evaluate models performance, just to give another example\n"
      ]
    },
    {
      "cell_type": "code",
      "execution_count": null,
      "metadata": {
        "colab": {
          "base_uri": "https://localhost:8080/"
        },
        "id": "TsC983TKjOmJ",
        "outputId": "a0574ddd-b281-42d8-f8e2-ec8ac40a0c94"
      },
      "outputs": [],
      "source": [
        "from sklearn.metrics import classification_report\n",
        "\n",
        "report = classification_report(y_test, predicted)\n",
        "\n",
        "print(report)"
      ]
    },
    {
      "cell_type": "markdown",
      "metadata": {
        "id": "dMbj_UCRkJWD"
      },
      "source": [
        "**Activity:** try to train another model from the `sklean` package for classification and compare the illustrated metrics to see which model performs better."
      ]
    },
    {
      "cell_type": "markdown",
      "metadata": {
        "id": "bZH75QhLku4x"
      },
      "source": [
        "## Wrap Up\n",
        "\n",
        "Although only a very limited number of models were illustrated in this notebook, the same approach can be used with many other techniques from the `sklearn` package, all the classes use the same kind of interface and follow the same strategy for the ones discussed.\n",
        "\n",
        "**Congratulations!** You completed the *Part 2: Introduction to Machine Learning* notebook!\n",
        "\n",
        "Pour yourself a cup of your favorite drink and take a minute to enjoy your first steps in mastering ML techniques."
      ]
    }
  ],
  "metadata": {
    "colab": {
      "provenance": []
    },
    "kernelspec": {
      "display_name": "astro",
      "language": "python",
      "name": "python3"
    },
    "language_info": {
      "codemirror_mode": {
        "name": "ipython",
        "version": 3
      },
      "file_extension": ".py",
      "mimetype": "text/x-python",
      "name": "python",
      "nbconvert_exporter": "python",
      "pygments_lexer": "ipython3",
      "version": "3.7.13"
    },
    "orig_nbformat": 4
  },
  "nbformat": 4,
  "nbformat_minor": 0
}
